{
 "cells": [
  {
   "cell_type": "code",
   "execution_count": 1,
   "id": "08088949",
   "metadata": {},
   "outputs": [
    {
     "name": "stdout",
     "output_type": "stream",
     "text": [
      "Untitled.ipynb   events-0.json    events-2.json    events-4.json\r\n",
      "\u001b[31mdownload.sh\u001b[m\u001b[m      events-1.json    events-3.json    events-mind.json\r\n"
     ]
    }
   ],
   "source": [
    "!ls"
   ]
  },
  {
   "cell_type": "code",
   "execution_count": 2,
   "id": "1a24791a",
   "metadata": {},
   "outputs": [
    {
     "name": "stdout",
     "output_type": "stream",
     "text": [
      "\r\n",
      "\u001b[1m[\u001b[0m\u001b[34;49mnotice\u001b[0m\u001b[1;39;49m]\u001b[0m\u001b[39;49m A new release of pip available: \u001b[0m\u001b[31;49m22.2.2\u001b[0m\u001b[39;49m -> \u001b[0m\u001b[32;49m22.3.1\u001b[0m\r\n",
      "\u001b[1m[\u001b[0m\u001b[34;49mnotice\u001b[0m\u001b[1;39;49m]\u001b[0m\u001b[39;49m To update, run: \u001b[0m\u001b[32;49mpython3.10 -m pip install --upgrade pip\u001b[0m\r\n"
     ]
    }
   ],
   "source": [
    "!pip3 install -q matplotlib"
   ]
  },
  {
   "cell_type": "code",
   "execution_count": 45,
   "id": "7b3003cd",
   "metadata": {},
   "outputs": [],
   "source": [
    "import json\n",
    "import pprint\n",
    "from collections import defaultdict\n",
    "from dateutil.parser import parse"
   ]
  },
  {
   "cell_type": "code",
   "execution_count": 52,
   "id": "40cf808c",
   "metadata": {},
   "outputs": [
    {
     "name": "stdout",
     "output_type": "stream",
     "text": [
      "lambdas: 154114, non-lambda jobs: 23554, can't parse: 4\n",
      "defaultdict(<class 'int'>,\n",
      "            {'2022-10-27': 143,\n",
      "             '2022-10-28': 2101,\n",
      "             '2022-10-29': 135,\n",
      "             '2022-10-30': 105,\n",
      "             '2022-10-31': 91,\n",
      "             '2022-11-01': 674,\n",
      "             '2022-11-02': 2060,\n",
      "             '2022-11-03': 478,\n",
      "             '2022-11-04': 51,\n",
      "             '2022-11-05': 57,\n",
      "             '2022-11-06': 37,\n",
      "             '2022-11-07': 55,\n",
      "             '2022-11-08': 14,\n",
      "             '2022-11-09': 19,\n",
      "             '2022-11-10': 58,\n",
      "             '2022-11-11': 193,\n",
      "             '2022-11-12': 12,\n",
      "             '2022-11-13': 55,\n",
      "             '2022-11-14': 28,\n",
      "             '2022-11-15': 108,\n",
      "             '2022-11-16': 196,\n",
      "             '2022-11-17': 22,\n",
      "             '2022-11-18': 1623,\n",
      "             '2022-11-19': 305,\n",
      "             '2022-11-20': 170,\n",
      "             '2022-11-21': 852,\n",
      "             '2022-11-22': 614,\n",
      "             '2022-11-23': 129,\n",
      "             '2022-11-24': 150,\n",
      "             '2022-11-25': 42,\n",
      "             '2022-11-26': 63,\n",
      "             '2022-11-27': 47,\n",
      "             '2022-11-28': 1636,\n",
      "             '2022-11-29': 429,\n",
      "             '2022-11-30': 248,\n",
      "             '2022-12-01': 636,\n",
      "             '2022-12-02': 1176,\n",
      "             '2022-12-03': 2662,\n",
      "             '2022-12-04': 2410,\n",
      "             '2022-12-05': 2533,\n",
      "             '2022-12-06': 1137})\n"
     ]
    }
   ],
   "source": [
    "i = 0\n",
    "lambdas = 0\n",
    "non_lambdas = 0\n",
    "cant_parse = 0\n",
    "\n",
    "# (\"year,day_of_year\")\n",
    "\n",
    "days = defaultdict(int)\n",
    "\n",
    "for node in (\"0\"): # each node receives all 'Create' events\n",
    "    for line in open(f\"events-{node}.json\"):\n",
    "        i += 1\n",
    "        try:\n",
    "            j = json.loads(line)\n",
    "        except Exception as e:\n",
    "            cant_parse += 1\n",
    "\n",
    "        date = j[\"time\"].split(\"T\")[0]\n",
    "        if j[\"Event\"][\"EventName\"] == \"Created\":\n",
    "            spec = j[\"Event\"][\"Spec\"][\"Docker\"].get(\"Entrypoint\", [])\n",
    "            is_lambda = \"λ\" in \"\".join(spec)\n",
    "            # print(f\"{spec} is lambda: {is_lambda}\")\n",
    "            if is_lambda:\n",
    "                lambdas += 1\n",
    "            else:\n",
    "                non_lambdas += 1\n",
    "                days[date] += 1\n",
    "\n",
    "print(f\"lambdas: {lambdas}, non-lambda jobs: {non_lambdas}, can't parse: {cant_parse}\")\n",
    "\n",
    "pprint.pprint(days)"
   ]
  },
  {
   "cell_type": "code",
   "execution_count": 5,
   "id": "cd8dfe73",
   "metadata": {},
   "outputs": [
    {
     "ename": "ModuleNotFoundError",
     "evalue": "No module named 'matplotlib'",
     "output_type": "error",
     "traceback": [
      "\u001b[0;31m---------------------------------------------------------------------------\u001b[0m",
      "\u001b[0;31mModuleNotFoundError\u001b[0m                       Traceback (most recent call last)",
      "Input \u001b[0;32mIn [5]\u001b[0m, in \u001b[0;36m<cell line: 1>\u001b[0;34m()\u001b[0m\n\u001b[0;32m----> 1\u001b[0m \u001b[38;5;28;01mimport\u001b[39;00m \u001b[38;5;21;01mmatplotlib\u001b[39;00m\u001b[38;5;21;01m.\u001b[39;00m\u001b[38;5;21;01mpyplot\u001b[39;00m \u001b[38;5;28;01mas\u001b[39;00m \u001b[38;5;21;01mplt\u001b[39;00m\n\u001b[1;32m      2\u001b[0m get_ipython()\u001b[38;5;241m.\u001b[39mrun_line_magic(\u001b[38;5;124m'\u001b[39m\u001b[38;5;124mmatplotlib\u001b[39m\u001b[38;5;124m'\u001b[39m, \u001b[38;5;124m'\u001b[39m\u001b[38;5;124minline\u001b[39m\u001b[38;5;124m'\u001b[39m)\n",
      "\u001b[0;31mModuleNotFoundError\u001b[0m: No module named 'matplotlib'"
     ]
    }
   ],
   "source": [
    "import matplotlib.pyplot as plt\n",
    "%matplotlib inline\n"
   ]
  },
  {
   "cell_type": "code",
   "execution_count": 41,
   "id": "ffc2ac2b",
   "metadata": {},
   "outputs": [
    {
     "name": "stdout",
     "output_type": "stream",
     "text": [
      "{\"Type\":\"model.JobEvent\",\"Event\":{\"JobID\":\"a42325c8-9eb8-479a-9571-425044c799c8\",\"SourceNodeID\":\"QmVAb7r2pKWCuyLpYWoZr9syhhFnTWeFaByHdb8PkkhLQG\",\"EventName\":\"ResultsPublished\",\"Spec\":{\"Docker\":{},\"Language\":{\"JobContext\":{}},\"Wasm\":{},\"Resources\":{\"GPU\":\"\"},\"Sharding\":{}},\"JobExecutionPlan\":{},\"Deal\":{},\"VerificationResult\":{},\"PublishedResult\":{\"StorageSource\":\"IPFS\",\"Name\":\"job-a42325c8-9eb8-479a-9571-425044c799c8-shard-0-host-QmVAb7r2pKWCuyLpYWoZr9syhhFnTWeFaByHdb8PkkhLQG\",\"CID\":\"QmPN8BmQLgCK9aUAfKbS3ZQ7EA2c5CNAdtc4JK3FpjttyT\"},\"EventTime\":\"2022-12-06T11:08:37.633481231Z\",\"SenderPublicKey\":\"CAASpgIwggEiMA0GCSqGSIb3DQEBAQUAA4IBDwAwggEKAoIBAQCxeSv2y9/YrjGn0TOAHJ4ughLt40ty+ct13WLnnm5tiIGKKJVskbokj3/db7frMJ4CQaDlJLCyiecroQpMVKAIKviQ87oQ7kB9cnYAcBVnSCTucxMqQ1E0r4cWx5L97UpkNcQjMySM6fFX/93Yu/iNWP7/n4gL5FVXxEMBxxMQQa2efvNEw6VG7gy5ghbZCVcvesywTxL0TRPoptSEV/avykXmcTZ/IPJs1fm8AfJ4P6N+H7T7ZkhbetTdOupc3vAYwHP+Wh4EmPcxbv1zgSm6KdymECQG1B386GR7livdW/74oUhwyYylixX5nEy73Tq+DKi3q27e3OutcMXYmMTTAgMBAAE=\"},\"time\":\"2022-12-06T11:08:37.640547875Z\"}\n"
     ]
    }
   ],
   "source": [
    "!tail -n 1 events-0.json"
   ]
  },
  {
   "cell_type": "code",
   "execution_count": 40,
   "id": "a11ac5a8",
   "metadata": {},
   "outputs": [
    {
     "name": "stdout",
     "output_type": "stream",
     "text": [
      "#!/bin/bash\r\n",
      "set -xeuo pipefail\r\n",
      "gcloud compute scp bacalhau-vm-production-0:/data/.bacalhau/bacalhau-event-tracer.json --project bacalhau-production ./events-0.json &\r\n",
      "gcloud compute scp bacalhau-vm-production-1:/data/.bacalhau/bacalhau-event-tracer.json --project bacalhau-production ./events-1.json &\r\n",
      "gcloud compute scp bacalhau-vm-production-2:/data/.bacalhau/bacalhau-event-tracer.json --project bacalhau-production ./events-2.json &\r\n",
      "gcloud compute scp bacalhau-vm-production-3:/data/.bacalhau/bacalhau-event-tracer.json --project bacalhau-production ./events-3.json &\r\n",
      "gcloud compute scp bacalhau-vm-production-4:/data/.bacalhau/bacalhau-event-tracer.json --project bacalhau-production --zone europe-west4-a ./events-4.json &\r\n",
      "scp luke@mind.lukemarsden.net:.bacalhau/bacalhau-event-tracer.json ./events-mind.json\r\n"
     ]
    }
   ],
   "source": [
    "!cat download.sh"
   ]
  },
  {
   "cell_type": "code",
   "execution_count": null,
   "id": "c761653f",
   "metadata": {},
   "outputs": [],
   "source": []
  }
 ],
 "metadata": {
  "kernelspec": {
   "display_name": "Python 3 (ipykernel)",
   "language": "python",
   "name": "python3"
  },
  "language_info": {
   "codemirror_mode": {
    "name": "ipython",
    "version": 3
   },
   "file_extension": ".py",
   "mimetype": "text/x-python",
   "name": "python",
   "nbconvert_exporter": "python",
   "pygments_lexer": "ipython3",
   "version": "3.9.13"
  }
 },
 "nbformat": 4,
 "nbformat_minor": 5
}
